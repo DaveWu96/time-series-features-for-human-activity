{
  "nbformat": 4,
  "nbformat_minor": 0,
  "metadata": {
    "colab": {
      "provenance": []
    },
    "kernelspec": {
      "name": "python3",
      "display_name": "Python 3"
    },
    "language_info": {
      "name": "python"
    }
  },
  "cells": [
    {
      "cell_type": "code",
      "execution_count": null,
      "metadata": {
        "id": "PCm9A2kRvfUk"
      },
      "outputs": [],
      "source": [
        "!pip install ts2vg"
      ]
    },
    {
      "cell_type": "code",
      "source": [
        "!pip install igraph"
      ],
      "metadata": {
        "id": "7nPHwJL1v4fq"
      },
      "execution_count": null,
      "outputs": []
    },
    {
      "cell_type": "code",
      "source": [
        "!pip install pycairo\n",
        "!pip install cairocffi"
      ],
      "metadata": {
        "id": "8PfTbvfSv7U9"
      },
      "execution_count": null,
      "outputs": []
    },
    {
      "cell_type": "code",
      "source": [
        "!pip install tabulate\n",
        "!pip install -U prettytable"
      ],
      "metadata": {
        "id": "NBkaYpF7v_zX"
      },
      "execution_count": null,
      "outputs": []
    },
    {
      "cell_type": "code",
      "source": [
        "from google.colab import files\n",
        "uploaded = files.upload()\n"
      ],
      "metadata": {
        "id": "1wzQuVzuwJUT"
      },
      "execution_count": null,
      "outputs": []
    },
    {
      "cell_type": "code",
      "source": [
        "import pandas as pd"
      ],
      "metadata": {
        "id": "oNRH-IlwwzuC"
      },
      "execution_count": 8,
      "outputs": []
    },
    {
      "cell_type": "code",
      "source": [
        "climbingdown1_chest = pd.read_csv('acc_climbingdown1_chest.csv')\n",
        "climbingdown1_head = pd.read_csv('acc_climbingdown1_head.csv')\n",
        "climbingup1_chest = pd.read_csv('acc_climbingup1_chest.csv')\n",
        "climbingup1_head = pd.read_csv('acc_climbingup1_head.csv')\n",
        "running1_chest = pd.read_csv('acc_running1_chest.csv')\n",
        "running1_head = pd.read_csv('acc_running1_head.csv')\n",
        "walking1_chest = pd.read_csv('acc_walking1_chest.csv')\n",
        "walking1_head = pd.read_csv('acc_walking1_head.csv')"
      ],
      "metadata": {
        "id": "Sr0tViNowgQj"
      },
      "execution_count": 11,
      "outputs": []
    },
    {
      "cell_type": "code",
      "source": [
        "from google.colab import files\n",
        "uploaded = files.upload()"
      ],
      "metadata": {
        "id": "nIU87_ofx9QA"
      },
      "execution_count": null,
      "outputs": []
    },
    {
      "cell_type": "code",
      "source": [
        "climbingdown2_chest = pd.read_csv('acc_climbingdown2_chest.csv')\n",
        "climbingdown2_head = pd.read_csv('acc_climbingdown2_head.csv')\n",
        "climbingup2_chest = pd.read_csv('acc_climbingup2_chest.csv')\n",
        "climbingup2_head = pd.read_csv('acc_climbingup2_head.csv')\n",
        "running2_chest = pd.read_csv('acc_running2_chest.csv')\n",
        "running2_head = pd.read_csv('acc_running2_head.csv')\n",
        "walking2_chest = pd.read_csv('acc_walking2_chest.csv')\n",
        "walking2_head = pd.read_csv('acc_walking2_head.csv')"
      ],
      "metadata": {
        "id": "isxhjrEHyOF0"
      },
      "execution_count": 13,
      "outputs": []
    },
    {
      "cell_type": "code",
      "source": [
        "from google.colab import files\n",
        "uploaded = files.upload()"
      ],
      "metadata": {
        "id": "xa4OROv9yX6R"
      },
      "execution_count": null,
      "outputs": []
    },
    {
      "cell_type": "code",
      "source": [
        "climbingdown3_chest = pd.read_csv('acc_climbingdown3_chest.csv')\n",
        "climbingdown3_head = pd.read_csv('acc_climbingdown3_head.csv')\n",
        "climbingup3_chest = pd.read_csv('acc_climbingup3_chest.csv')\n",
        "climbingup3_head = pd.read_csv('acc_climbingup3_head.csv')\n",
        "running3_chest = pd.read_csv('acc_running3_chest.csv')\n",
        "running3_head = pd.read_csv('acc_running3_head.csv')\n",
        "walking3_chest = pd.read_csv('acc_walking3_chest.csv')\n",
        "walking3_head = pd.read_csv('acc_walking3_head.csv')"
      ],
      "metadata": {
        "id": "UXtwxnh6ykXj"
      },
      "execution_count": 20,
      "outputs": []
    },
    {
      "cell_type": "code",
      "source": [
        "from google.colab import files\n",
        "uploaded = files.upload()"
      ],
      "metadata": {
        "id": "Uwz_A4Xdyyel"
      },
      "execution_count": null,
      "outputs": []
    },
    {
      "cell_type": "code",
      "source": [
        "climbingdown4_chest = pd.read_csv('acc_climbingdown4_chest.csv')\n",
        "climbingdown4_head = pd.read_csv('acc_climbingdown4_head.csv')\n",
        "climbingup4_chest = pd.read_csv('acc_climbingup4_chest.csv')\n",
        "climbingup4_head = pd.read_csv('acc_climbingup4_head.csv')\n",
        "running4_chest = pd.read_csv('acc_running4_chest.csv')\n",
        "running4_head = pd.read_csv('acc_running4_head.csv')\n",
        "walking4_chest = pd.read_csv('acc_walking4_chest.csv')\n",
        "walking4_head = pd.read_csv('acc_walking4_head.csv')"
      ],
      "metadata": {
        "id": "lzTiJA6AzAPA"
      },
      "execution_count": 17,
      "outputs": []
    },
    {
      "cell_type": "code",
      "source": [
        "from google.colab import files\n",
        "uploaded = files.upload()"
      ],
      "metadata": {
        "id": "a39AfGKEzUEh"
      },
      "execution_count": null,
      "outputs": []
    },
    {
      "cell_type": "code",
      "source": [
        "climbingdown5_chest = pd.read_csv('acc_climbingdown5_chest.csv')\n",
        "climbingdown5_head = pd.read_csv('acc_climbingdown5_head.csv')\n",
        "climbingup5_chest = pd.read_csv('acc_climbingup5_chest.csv')\n",
        "climbingup5_head = pd.read_csv('acc_climbingup5_head.csv')\n",
        "running5_chest = pd.read_csv('acc_running5_chest.csv')\n",
        "running5_head = pd.read_csv('acc_running5_head.csv')\n",
        "walking5_chest = pd.read_csv('acc_walking5_chest.csv')\n",
        "walking5_head = pd.read_csv('acc_walking5_head.csv')"
      ],
      "metadata": {
        "id": "xlh5QqyqzkAV"
      },
      "execution_count": 19,
      "outputs": []
    },
    {
      "cell_type": "code",
      "source": [
        "from google.colab import files\n",
        "uploaded = files.upload()"
      ],
      "metadata": {
        "id": "9vOr-epgzwc3"
      },
      "execution_count": null,
      "outputs": []
    },
    {
      "cell_type": "code",
      "source": [
        "climbingdown6_chest = pd.read_csv('acc_climbingdown6_chest.csv')\n",
        "climbingdown6_head = pd.read_csv('acc_climbingdown6_head.csv')\n",
        "climbingup6_chest = pd.read_csv('acc_climbingup6_chest.csv')\n",
        "climbingup6_head = pd.read_csv('acc_climbingup6_head.csv')\n",
        "running6_chest = pd.read_csv('acc_running6_chest.csv')\n",
        "running6_head = pd.read_csv('acc_running6_head.csv')\n",
        "walking6_chest = pd.read_csv('acc_walking6_chest.csv')\n",
        "walking6_head = pd.read_csv('acc_walking6_head.csv')"
      ],
      "metadata": {
        "id": "bfwR1zALzyrE"
      },
      "execution_count": 22,
      "outputs": []
    },
    {
      "cell_type": "code",
      "source": [
        "from google.colab import files\n",
        "uploaded = files.upload()"
      ],
      "metadata": {
        "id": "JnSI9gU90G8D"
      },
      "execution_count": null,
      "outputs": []
    },
    {
      "cell_type": "code",
      "source": [
        "climbingdown7_chest = pd.read_csv('acc_climbingdown7_chest.csv')\n",
        "climbingdown7_head = pd.read_csv('acc_climbingdown7_head.csv')\n",
        "climbingup7_chest = pd.read_csv('acc_climbingup7_chest.csv')\n",
        "climbingup7_head = pd.read_csv('acc_climbingup7_head.csv')\n",
        "running7_chest = pd.read_csv('acc_running7_chest.csv')\n",
        "running7_head = pd.read_csv('acc_running7_head.csv')\n",
        "walking7_chest = pd.read_csv('acc_walking7_chest.csv')\n",
        "walking7_head = pd.read_csv('acc_walking7_head.csv')"
      ],
      "metadata": {
        "id": "4cKaSSZi0iOt"
      },
      "execution_count": 24,
      "outputs": []
    },
    {
      "cell_type": "code",
      "source": [
        "from google.colab import files\n",
        "uploaded = files.upload()"
      ],
      "metadata": {
        "id": "UEgWMltf02yv"
      },
      "execution_count": null,
      "outputs": []
    },
    {
      "cell_type": "code",
      "source": [
        "climbingdown8_chest = pd.read_csv('acc_climbingdown8_chest.csv')\n",
        "climbingdown8_head = pd.read_csv('acc_climbingdown8_head.csv')\n",
        "climbingup8_chest = pd.read_csv('acc_climbingup8_chest.csv')\n",
        "climbingup8_head = pd.read_csv('acc_climbingup8_head.csv')\n",
        "running8_chest = pd.read_csv('acc_running8_chest.csv')\n",
        "running8_head = pd.read_csv('acc_running8_head.csv')\n",
        "walking8_chest = pd.read_csv('acc_walking8_chest.csv')\n",
        "walking8_head = pd.read_csv('acc_walking8_head.csv')"
      ],
      "metadata": {
        "id": "h33Pp8Bm1RSs"
      },
      "execution_count": 26,
      "outputs": []
    },
    {
      "cell_type": "code",
      "source": [
        "from google.colab import files\n",
        "uploaded = files.upload()"
      ],
      "metadata": {
        "id": "iO06OMAE1a0x"
      },
      "execution_count": null,
      "outputs": []
    },
    {
      "cell_type": "code",
      "source": [
        "climbingdown9_chest = pd.read_csv('acc_climbingdown9_chest.csv')\n",
        "climbingdown9_head = pd.read_csv('acc_climbingdown9_head.csv')\n",
        "climbingup9_chest = pd.read_csv('acc_climbingup9_chest.csv')\n",
        "climbingup9_head = pd.read_csv('acc_climbingup9_head.csv')\n",
        "running9_chest = pd.read_csv('acc_running9_chest.csv')\n",
        "running9_head = pd.read_csv('acc_running9_head.csv')\n",
        "walking9_chest = pd.read_csv('acc_walking9_chest.csv')\n",
        "walking9_head = pd.read_csv('acc_walking9_head.csv')"
      ],
      "metadata": {
        "id": "i2ytZ_XW1eHa"
      },
      "execution_count": 28,
      "outputs": []
    },
    {
      "cell_type": "code",
      "source": [
        "from google.colab import files\n",
        "uploaded = files.upload()"
      ],
      "metadata": {
        "id": "Kp_ctC0o1oNW"
      },
      "execution_count": null,
      "outputs": []
    },
    {
      "cell_type": "code",
      "source": [
        "climbingdown10_chest = pd.read_csv('acc_climbingdown10_chest.csv')\n",
        "climbingdown10_head = pd.read_csv('acc_climbingdown10_head.csv')\n",
        "climbingup10_chest = pd.read_csv('acc_climbingup10_chest.csv')\n",
        "climbingup10_head = pd.read_csv('acc_climbingup10_head.csv')\n",
        "running10_chest = pd.read_csv('acc_running10_chest.csv')\n",
        "running10_head = pd.read_csv('acc_running10_head.csv')\n",
        "walking10_chest = pd.read_csv('acc_walking10_chest.csv')\n",
        "walking10_head = pd.read_csv('acc_walking10_head.csv')"
      ],
      "metadata": {
        "id": "tt9XKGwV17H7"
      },
      "execution_count": 30,
      "outputs": []
    },
    {
      "cell_type": "code",
      "source": [
        "from google.colab import files\n",
        "uploaded = files.upload()"
      ],
      "metadata": {
        "id": "I0N72pvA2GcP"
      },
      "execution_count": null,
      "outputs": []
    },
    {
      "cell_type": "code",
      "source": [
        "climbingdown11_chest = pd.read_csv('acc_climbingdown11_chest.csv')\n",
        "climbingdown11_head = pd.read_csv('acc_climbingdown11_head.csv')\n",
        "climbingup11_chest = pd.read_csv('acc_climbingup11_chest.csv')\n",
        "climbingup11_head = pd.read_csv('acc_climbingup11_head.csv')\n",
        "running11_chest = pd.read_csv('acc_running11_chest.csv')\n",
        "running11_head = pd.read_csv('acc_running11_head.csv')\n",
        "walking11_chest = pd.read_csv('acc_walking11_chest.csv')\n",
        "walking11_head = pd.read_csv('acc_walking11_head.csv')"
      ],
      "metadata": {
        "id": "fkbh2zj-2RSY"
      },
      "execution_count": 32,
      "outputs": []
    },
    {
      "cell_type": "code",
      "source": [
        "from google.colab import files\n",
        "uploaded = files.upload()"
      ],
      "metadata": {
        "id": "0RayUByt2hbP"
      },
      "execution_count": null,
      "outputs": []
    },
    {
      "cell_type": "code",
      "source": [
        "climbingdown12_chest = pd.read_csv('acc_climbingdown12_chest.csv')\n",
        "climbingdown12_head = pd.read_csv('acc_climbingdown12_head.csv')\n",
        "climbingup12_chest = pd.read_csv('acc_climbingup12_chest.csv')\n",
        "climbingup12_head = pd.read_csv('acc_climbingup12_head.csv')\n",
        "running12_chest = pd.read_csv('acc_running12_chest.csv')\n",
        "running12_head = pd.read_csv('acc_running12_head.csv')\n",
        "walking12_chest = pd.read_csv('acc_walking12_chest.csv')\n",
        "walking12_head = pd.read_csv('acc_walking12_head.csv')"
      ],
      "metadata": {
        "id": "zSfqDlnx23mf"
      },
      "execution_count": 34,
      "outputs": []
    },
    {
      "cell_type": "code",
      "source": [
        "from google.colab import files\n",
        "uploaded = files.upload()"
      ],
      "metadata": {
        "id": "n8XW-GAj3BxX"
      },
      "execution_count": null,
      "outputs": []
    },
    {
      "cell_type": "code",
      "source": [
        "climbingdown13_chest = pd.read_csv('acc_climbingdown13_chest.csv')\n",
        "climbingdown13_head = pd.read_csv('acc_climbingdown13_head.csv')\n",
        "climbingup13_chest = pd.read_csv('acc_climbingup13_chest.csv')\n",
        "climbingup13_head = pd.read_csv('acc_climbingup13_head.csv')\n",
        "running13_chest = pd.read_csv('acc_running13_chest.csv')\n",
        "running13_head = pd.read_csv('acc_running13_head.csv')\n",
        "walking13_chest = pd.read_csv('acc_walking13_chest.csv')\n",
        "walking13_head = pd.read_csv('acc_walking13_head.csv')"
      ],
      "metadata": {
        "id": "W16jYCLv3mpn"
      },
      "execution_count": 36,
      "outputs": []
    },
    {
      "cell_type": "code",
      "source": [
        "from google.colab import files\n",
        "uploaded = files.upload()"
      ],
      "metadata": {
        "id": "kGO9oNXS3_uy"
      },
      "execution_count": null,
      "outputs": []
    },
    {
      "cell_type": "code",
      "source": [
        "climbingdown14_chest = pd.read_csv('acc_climbingdown14_chest.csv')\n",
        "climbingdown14_head = pd.read_csv('acc_climbingdown14_head.csv')\n",
        "climbingup14_chest = pd.read_csv('acc_climbingup14_chest.csv')\n",
        "climbingup14_head = pd.read_csv('acc_climbingup14_head.csv')\n",
        "running14_chest = pd.read_csv('acc_running14_chest.csv')\n",
        "running14_head = pd.read_csv('acc_running14_head.csv')\n",
        "walking14_chest = pd.read_csv('acc_walking14_chest.csv')\n",
        "walking14_head = pd.read_csv('acc_walking14_head.csv')"
      ],
      "metadata": {
        "id": "mBCfE7ON4DTV"
      },
      "execution_count": 38,
      "outputs": []
    },
    {
      "cell_type": "code",
      "source": [
        "from google.colab import files\n",
        "uploaded = files.upload()"
      ],
      "metadata": {
        "id": "m42YO1hd4Lck"
      },
      "execution_count": null,
      "outputs": []
    },
    {
      "cell_type": "code",
      "source": [
        "climbingdown15_chest = pd.read_csv('acc_climbingdown15_chest.csv')\n",
        "climbingdown15_head = pd.read_csv('acc_climbingdown15_head.csv')\n",
        "climbingup15_chest = pd.read_csv('acc_climbingup15_chest.csv')\n",
        "climbingup15_head = pd.read_csv('acc_climbingup15_head.csv')\n",
        "running15_chest = pd.read_csv('acc_running15_chest.csv')\n",
        "running15_head = pd.read_csv('acc_running15_head.csv')\n",
        "walking15_chest = pd.read_csv('acc_walking15_chest.csv')\n",
        "walking15_head = pd.read_csv('acc_walking15_head.csv')"
      ],
      "metadata": {
        "id": "TgemH8eK4O0G"
      },
      "execution_count": 40,
      "outputs": []
    },
    {
      "cell_type": "code",
      "source": [
        "from ts2vg import NaturalVG\n",
        "from ts2vg import HorizontalVG\n",
        "import numpy as np\n",
        "import os\n",
        "from tabulate import tabulate\n",
        "import matplotlib.pyplot as plt\n",
        "from io import StringIO \n",
        "import prettytable \n",
        "import seaborn as sns\n",
        "from statistics import mean\n",
        "import pandas as pd"
      ],
      "metadata": {
        "id": "eGXtahI_8Gdo"
      },
      "execution_count": 362,
      "outputs": []
    },
    {
      "cell_type": "markdown",
      "source": [
        "**NVG**"
      ],
      "metadata": {
        "id": "I6kgHwsV7Zpk"
      }
    },
    {
      "cell_type": "code",
      "source": [
        "NVG_Table = [\"Method\", \"Subject\", \"Accelerometer_axis\", \"Average_degree\", \"Network_diameter\",\n",
        "                \"Average_path_length\", \"Activity\"]\n",
        "NVG = pd.DataFrame(columns = NVG_Table)"
      ],
      "metadata": {
        "id": "dxn2Bi1sDBXD"
      },
      "execution_count": 372,
      "outputs": []
    },
    {
      "cell_type": "code",
      "source": [
        "NVG"
      ],
      "metadata": {
        "colab": {
          "base_uri": "https://localhost:8080/",
          "height": 113
        },
        "id": "JRhUeLyyLDa0",
        "outputId": "98c9ec7b-5093-49be-9b96-f35f796a5d2c"
      },
      "execution_count": 373,
      "outputs": [
        {
          "output_type": "execute_result",
          "data": {
            "text/plain": [
              "Empty DataFrame\n",
              "Columns: [Method, Subject, Accelerometer_axis, Average_degree, Network_diameter, Average_path_length, Activity]\n",
              "Index: []"
            ],
            "text/html": [
              "\n",
              "  <div id=\"df-a060177a-947f-4726-8343-ea733155c200\">\n",
              "    <div class=\"colab-df-container\">\n",
              "      <div>\n",
              "<style scoped>\n",
              "    .dataframe tbody tr th:only-of-type {\n",
              "        vertical-align: middle;\n",
              "    }\n",
              "\n",
              "    .dataframe tbody tr th {\n",
              "        vertical-align: top;\n",
              "    }\n",
              "\n",
              "    .dataframe thead th {\n",
              "        text-align: right;\n",
              "    }\n",
              "</style>\n",
              "<table border=\"1\" class=\"dataframe\">\n",
              "  <thead>\n",
              "    <tr style=\"text-align: right;\">\n",
              "      <th></th>\n",
              "      <th>Method</th>\n",
              "      <th>Subject</th>\n",
              "      <th>Accelerometer_axis</th>\n",
              "      <th>Average_degree</th>\n",
              "      <th>Network_diameter</th>\n",
              "      <th>Average_path_length</th>\n",
              "      <th>Activity</th>\n",
              "    </tr>\n",
              "  </thead>\n",
              "  <tbody>\n",
              "  </tbody>\n",
              "</table>\n",
              "</div>\n",
              "      <button class=\"colab-df-convert\" onclick=\"convertToInteractive('df-a060177a-947f-4726-8343-ea733155c200')\"\n",
              "              title=\"Convert this dataframe to an interactive table.\"\n",
              "              style=\"display:none;\">\n",
              "        \n",
              "  <svg xmlns=\"http://www.w3.org/2000/svg\" height=\"24px\"viewBox=\"0 0 24 24\"\n",
              "       width=\"24px\">\n",
              "    <path d=\"M0 0h24v24H0V0z\" fill=\"none\"/>\n",
              "    <path d=\"M18.56 5.44l.94 2.06.94-2.06 2.06-.94-2.06-.94-.94-2.06-.94 2.06-2.06.94zm-11 1L8.5 8.5l.94-2.06 2.06-.94-2.06-.94L8.5 2.5l-.94 2.06-2.06.94zm10 10l.94 2.06.94-2.06 2.06-.94-2.06-.94-.94-2.06-.94 2.06-2.06.94z\"/><path d=\"M17.41 7.96l-1.37-1.37c-.4-.4-.92-.59-1.43-.59-.52 0-1.04.2-1.43.59L10.3 9.45l-7.72 7.72c-.78.78-.78 2.05 0 2.83L4 21.41c.39.39.9.59 1.41.59.51 0 1.02-.2 1.41-.59l7.78-7.78 2.81-2.81c.8-.78.8-2.07 0-2.86zM5.41 20L4 18.59l7.72-7.72 1.47 1.35L5.41 20z\"/>\n",
              "  </svg>\n",
              "      </button>\n",
              "      \n",
              "  <style>\n",
              "    .colab-df-container {\n",
              "      display:flex;\n",
              "      flex-wrap:wrap;\n",
              "      gap: 12px;\n",
              "    }\n",
              "\n",
              "    .colab-df-convert {\n",
              "      background-color: #E8F0FE;\n",
              "      border: none;\n",
              "      border-radius: 50%;\n",
              "      cursor: pointer;\n",
              "      display: none;\n",
              "      fill: #1967D2;\n",
              "      height: 32px;\n",
              "      padding: 0 0 0 0;\n",
              "      width: 32px;\n",
              "    }\n",
              "\n",
              "    .colab-df-convert:hover {\n",
              "      background-color: #E2EBFA;\n",
              "      box-shadow: 0px 1px 2px rgba(60, 64, 67, 0.3), 0px 1px 3px 1px rgba(60, 64, 67, 0.15);\n",
              "      fill: #174EA6;\n",
              "    }\n",
              "\n",
              "    [theme=dark] .colab-df-convert {\n",
              "      background-color: #3B4455;\n",
              "      fill: #D2E3FC;\n",
              "    }\n",
              "\n",
              "    [theme=dark] .colab-df-convert:hover {\n",
              "      background-color: #434B5C;\n",
              "      box-shadow: 0px 1px 3px 1px rgba(0, 0, 0, 0.15);\n",
              "      filter: drop-shadow(0px 1px 2px rgba(0, 0, 0, 0.3));\n",
              "      fill: #FFFFFF;\n",
              "    }\n",
              "  </style>\n",
              "\n",
              "      <script>\n",
              "        const buttonEl =\n",
              "          document.querySelector('#df-a060177a-947f-4726-8343-ea733155c200 button.colab-df-convert');\n",
              "        buttonEl.style.display =\n",
              "          google.colab.kernel.accessAllowed ? 'block' : 'none';\n",
              "\n",
              "        async function convertToInteractive(key) {\n",
              "          const element = document.querySelector('#df-a060177a-947f-4726-8343-ea733155c200');\n",
              "          const dataTable =\n",
              "            await google.colab.kernel.invokeFunction('convertToInteractive',\n",
              "                                                     [key], {});\n",
              "          if (!dataTable) return;\n",
              "\n",
              "          const docLinkHtml = 'Like what you see? Visit the ' +\n",
              "            '<a target=\"_blank\" href=https://colab.research.google.com/notebooks/data_table.ipynb>data table notebook</a>'\n",
              "            + ' to learn more about interactive tables.';\n",
              "          element.innerHTML = '';\n",
              "          dataTable['output_type'] = 'display_data';\n",
              "          await google.colab.output.renderOutput(dataTable, element);\n",
              "          const docLink = document.createElement('div');\n",
              "          docLink.innerHTML = docLinkHtml;\n",
              "          element.appendChild(docLink);\n",
              "        }\n",
              "      </script>\n",
              "    </div>\n",
              "  </div>\n",
              "  "
            ]
          },
          "metadata": {},
          "execution_count": 373
        }
      ]
    },
    {
      "cell_type": "code",
      "source": [
        "climbingdown_chest = [climbingdown1_chest,climbingdown2_chest,climbingdown3_chest,climbingdown4_chest,climbingdown5_chest,climbingdown6_chest,climbingdown7_chest,climbingdown8_chest,climbingdown9_chest,climbingdown10_chest,climbingdown11_chest,climbingdown12_chest,climbingdown13_chest,climbingdown14_chest,climbingdown15_chest]"
      ],
      "metadata": {
        "id": "qbIqKAmrChdj"
      },
      "execution_count": 44,
      "outputs": []
    },
    {
      "cell_type": "code",
      "source": [
        "climbingdown_head = [climbingdown1_head,climbingdown2_head,climbingdown3_head,climbingdown4_head,climbingdown5_head,climbingdown6_head,climbingdown7_head,climbingdown8_head,climbingdown9_head,climbingdown10_head,climbingdown11_head,climbingdown12_head,climbingdown13_head,climbingdown14_head,climbingdown15_head]"
      ],
      "metadata": {
        "id": "iz1eiq2cEzCL"
      },
      "execution_count": 45,
      "outputs": []
    },
    {
      "cell_type": "code",
      "source": [
        "climbingup_chest = [climbingup1_chest,climbingup2_chest,climbingup3_chest,climbingup4_chest,climbingup5_chest,climbingup6_chest,climbingup7_chest,climbingup8_chest,climbingup9_chest,climbingup10_chest,climbingup11_chest,climbingup12_chest,climbingup13_chest,climbingup14_chest,climbingup15_chest]"
      ],
      "metadata": {
        "id": "1JFXMfZNFUS_"
      },
      "execution_count": 46,
      "outputs": []
    },
    {
      "cell_type": "code",
      "source": [
        "climbingup_head = [climbingup1_head,climbingup2_head,climbingup3_head,climbingup4_head,climbingup5_head,climbingup6_head,climbingup7_head,climbingup8_head,climbingup9_head,climbingup10_head,climbingup11_head,climbingup12_head,climbingup13_head,climbingup14_head,climbingup15_head]"
      ],
      "metadata": {
        "id": "Z-8H3W3zGGMO"
      },
      "execution_count": 47,
      "outputs": []
    },
    {
      "cell_type": "code",
      "source": [
        "running_chest = [running1_chest,running2_chest,running3_chest,running4_chest,running5_chest,running6_chest,running7_chest,running8_chest,running9_chest,running10_chest,running11_chest,running12_chest,running13_chest,running14_chest,running15_chest]"
      ],
      "metadata": {
        "id": "yphLN4V0GkLR"
      },
      "execution_count": 48,
      "outputs": []
    },
    {
      "cell_type": "code",
      "source": [
        "running_head = [running1_head,running2_head,running3_head,running4_head,running5_head,running6_head,running7_head,running8_head,running9_head,running10_head,running11_head,running12_head,running13_head,running14_head,running15_head]"
      ],
      "metadata": {
        "id": "tx3jJLuhHHTs"
      },
      "execution_count": 49,
      "outputs": []
    },
    {
      "cell_type": "code",
      "source": [
        "walking_chest = [walking1_chest,walking2_chest,walking3_chest,walking4_chest,walking5_chest,walking6_chest,walking7_chest,walking8_chest,walking9_chest,walking10_chest,walking11_chest,walking12_chest,walking13_chest,walking14_chest,walking15_chest]"
      ],
      "metadata": {
        "id": "Nnh-nXJTHgJK"
      },
      "execution_count": 50,
      "outputs": []
    },
    {
      "cell_type": "code",
      "source": [
        "walking_head = [walking1_head,walking2_head,walking3_head,walking4_head,walking5_head,walking6_head,walking7_head,walking8_head,walking9_head,walking10_head,walking11_head,walking12_head,walking13_head,walking14_head,walking15_head]"
      ],
      "metadata": {
        "id": "qPKG5NBZH4Ic"
      },
      "execution_count": 51,
      "outputs": []
    },
    {
      "cell_type": "code",
      "source": [
        "chest = [climbingdown_chest,climbingup_chest,running_chest,walking_chest]\n",
        "chest"
      ],
      "metadata": {
        "id": "PN7q2jvpQoUd"
      },
      "execution_count": null,
      "outputs": []
    },
    {
      "cell_type": "code",
      "source": [
        "attr = ['attr_x','attr_y','attr_z']"
      ],
      "metadata": {
        "id": "c3sV2WnD_o_y"
      },
      "execution_count": 103,
      "outputs": []
    },
    {
      "cell_type": "code",
      "source": [
        "def NVGattr_function():\n",
        "    if j == 'attr_x':\n",
        "      return 'X'\n",
        "    elif j == 'attr_y':\n",
        "      return 'Y'\n",
        "    elif j == 'attr_z':\n",
        "      return 'Z'"
      ],
      "metadata": {
        "id": "0hTh9fW4jUrQ"
      },
      "execution_count": 370,
      "outputs": []
    },
    {
      "cell_type": "code",
      "source": [
        "def NVGClimbingdownchest():  \n",
        "  gClimbingdownchest = NaturalVG()\n",
        "  gClimbingdownchest.build(climbingdown_chest[i-1][j][1000:2024])\n",
        "  ig_gClimbingdownchest = gClimbingdownchest.as_igraph()\n",
        "  degree_climbingdownchest = np.mean(ig_gClimbingdownchest.degree())\n",
        "  diameter_climbingdownchest = ig_gClimbingdownchest.diameter() \n",
        "  path_climbingdownchest = ig_gClimbingdownchest.average_path_length()\n",
        "  "
      ],
      "metadata": {
        "id": "bIptEakBKRzF"
      },
      "execution_count": 353,
      "outputs": []
    },
    {
      "cell_type": "code",
      "source": [
        "def NVGClimbingdownhead():\n",
        "  gClimbingdownhead = NaturalVG()\n",
        "  gClimbingdownhead.build(climbingdown_head[i-1][j][1000:2024])\n",
        "  ig_gClimbingdownhead = gClimbingdownhead.as_igraph()\n",
        "  degree_climbingdownhead = np.mean(ig_gClimbingdownhead.degree())\n",
        "  diameter_climbingdownhead = ig_gClimbingdownhead.diameter()\n",
        "  path_climbingdownhead = ig_gClimbingdownhead.average_path_length()"
      ],
      "metadata": {
        "id": "kcL5vIxom4-o"
      },
      "execution_count": 354,
      "outputs": []
    },
    {
      "cell_type": "code",
      "source": [
        "def NVGClimbingupchest():\n",
        "  gClimbingupchest = NaturalVG()\n",
        "  gClimbingupchest.build(climbingup_chest[i-1][j][1000:2024])\n",
        "  ig_gClimbingupchest = gClimbingupchest.as_igraph()\n",
        "  degree_climbingupchest = np.mean(ig_gClimbingupchest.degree())\n",
        "  diameter_climbingupchest = ig_gClimbingupchest.diameter()\n",
        "  path_climbingupchest = ig_gClimbingupchest.average_path_length()"
      ],
      "metadata": {
        "id": "UNKUNTTVoEEs"
      },
      "execution_count": 355,
      "outputs": []
    },
    {
      "cell_type": "code",
      "source": [
        "def NVGClimbinguphead():\n",
        "  gClimbinguphead = NaturalVG()\n",
        "  gClimbinguphead.build(climbingup_head[i-1][j][1000:2024])\n",
        "  ig_gClimbinguphead = gClimbinguphead.as_igraph()\n",
        "  degree_climbinguphead = np.mean(ig_gClimbinguphead.degree())\n",
        "  diameter_climbinguphead = ig_gClimbinguphead.diameter()\n",
        "  path_climbinguphead = ig_gClimbinguphead.average_path_length()"
      ],
      "metadata": {
        "id": "l06lf0Z_qEyj"
      },
      "execution_count": 356,
      "outputs": []
    },
    {
      "cell_type": "code",
      "source": [
        "def NVGRunningchest():\n",
        "  gRunningchest = NaturalVG()\n",
        "  gRunningchest.build(running_chest[i-1][j][1000:2024])\n",
        "  ig_gRunningchest = gRunningchest.as_igraph()\n",
        "  degree_runningchest = np.mean(ig_gRunningchest.degree())\n",
        "  diameter_runningchest = ig_gRunningchest.diameter()\n",
        "  path_runningchest = ig_gRunningchest.average_path_length()"
      ],
      "metadata": {
        "id": "lWmtKlLaqlOF"
      },
      "execution_count": 357,
      "outputs": []
    },
    {
      "cell_type": "code",
      "source": [
        "def NVGRunninghead():\n",
        "  gRunninghead = NaturalVG()\n",
        "  gRunninghead.build(running_head[i-1][j][1000:2024])\n",
        "  ig_gRunninghead = gRunninghead.as_igraph()\n",
        "  degree_runninghead = np.mean(ig_gRunninghead.degree())\n",
        "  diameter_runninghead = ig_gRunninghead.diameter()\n",
        "  path_runninghead = ig_gRunninghead.average_path_length()"
      ],
      "metadata": {
        "id": "qTcUQ3M9q36o"
      },
      "execution_count": 358,
      "outputs": []
    },
    {
      "cell_type": "code",
      "source": [
        "def NVGWalkingchest():\n",
        "  gWalkingchest = NaturalVG()\n",
        "  gWalkingchest.build(walking_chest[i-1][j][1000:2024])\n",
        "  ig_gWalkingchest = gWalkingchest.as_igraph()\n",
        "  degree_walkingchest = np.mean(ig_gWalkingchest.degree())\n",
        "  diameter_walkingchest = ig_gWalkingchest.diameter()\n",
        "  path_walkingchest = ig_gWalkingchest.average_path_length()"
      ],
      "metadata": {
        "id": "4R594oDfq_iY"
      },
      "execution_count": 359,
      "outputs": []
    },
    {
      "cell_type": "code",
      "source": [
        "def NVGWalkinghead():\n",
        "  gWalkinghead = NaturalVG()\n",
        "  gWalkinghead.build(walking_head[i-1][j][1000:2024])\n",
        "  ig_gWalkinghead = gWalkinghead.as_igraph()\n",
        "  degree_walkinghead = np.mean(ig_gWalkinghead.degree())\n",
        "  diameter_walkinghead = ig_gWalkinghead.diameter()\n",
        "  path_walkinghead = ig_gWalkinghead.average_path_length()"
      ],
      "metadata": {
        "id": "dX_EyxadsPbE"
      },
      "execution_count": 360,
      "outputs": []
    },
    {
      "cell_type": "code",
      "source": [
        "i = 1\n",
        "for i in range (1,16): \n",
        "  for j in attr:\n",
        "    NVGattr_function()\n",
        "    NVGClimbingdownchest()\n",
        "    NVG = NVG.append({\"Method\" : \"NVG\", \"Subject\" : i, \"Accelerometer_axis\" : NVGattr_function(), \"Average_degree\" : degree_climbingdownchest, \"Network_diameter\" : diameter_climbingdownchest, \"Average_path_length\" : path_climbingdownchest, \"Activity\" : \"Climbingdown\"}, ignore_index=True)\n",
        "\n",
        "    NVGClimbingdownhead()\n",
        "    NVG = NVG.append({\"Method\" : \"NVG\", \"Subject\" : i, \"Accelerometer_axis\" : NVGattr_function(), \"Average_degree\" : degree_climbingdownhead, \"Network_diameter\" : diameter_climbingdownhead, \"Average_path_length\" : path_climbingdownhead, \"Activity\" : \"Climbingdown\"}, ignore_index=True) \n",
        "\n",
        "    NVGClimbingupchest()\n",
        "    NVG = NVG.append({\"Method\" : \"NVG\", \"Subject\" : i, \"Accelerometer_axis\" : NVGattr_function(), \"Average_degree\" : degree_climbingupchest, \"Network_diameter\" : diameter_climbingupchest, \"Average_path_length\" : path_climbingupchest, \"Activity\" : \"Climbingup\"}, ignore_index=True) \n",
        "\n",
        "    NVGClimbinguphead()\n",
        "    NVG = NVG.append({\"Method\" : \"NVG\", \"Subject\" : i, \"Accelerometer_axis\" : NVGattr_function(), \"Average_degree\" : degree_climbinguphead, \"Network_diameter\" : diameter_climbinguphead, \"Average_path_length\" : path_climbinguphead, \"Activity\" : \"Climbingup\"}, ignore_index=True)\n",
        "\n",
        "    NVGRunningchest()\n",
        "    NVG = NVG.append({\"Method\" : \"NVG\", \"Subject\" : i, \"Accelerometer_axis\" : NVGattr_function(), \"Average_degree\" : degree_runningchest, \"Network_diameter\" : diameter_runningchest, \"Average_path_length\" : path_runningchest, \"Activity\" : \"Running\"}, ignore_index=True)\n",
        "    \n",
        "    NVGRunninghead()\n",
        "    NVG = NVG.append({\"Method\" : \"NVG\", \"Subject\" : i, \"Accelerometer_axis\" : NVGattr_function(), \"Average_degree\" : degree_runninghead, \"Network_diameter\" : diameter_runninghead, \"Average_path_length\" : path_runninghead, \"Activity\" : \"Running\"}, ignore_index=True)\n",
        "    \n",
        "    NVGWalkingchest()\n",
        "    NVG = NVG.append({\"Method\" : \"NVG\", \"Subject\" : i, \"Accelerometer_axis\" : NVGattr_function(), \"Average_degree\" : degree_walkingchest, \"Network_diameter\" : diameter_walkingchest, \"Average_path_length\" : path_walkingchest, \"Activity\" : \"walking\"}, ignore_index=True)\n",
        "\n",
        "    NVGWalkinghead()\n",
        "    NVG = NVG.append({\"Method\" : \"NVG\", \"Subject\" : i, \"Accelerometer_axis\" : NVGattr_function(), \"Average_degree\" : degree_walkinghead, \"Network_diameter\" : diameter_walkinghead, \"Average_path_length\" : path_walkinghead, \"Activity\" : \"walking\"}, ignore_index=True)"
      ],
      "metadata": {
        "id": "aSN1T54TLIy2"
      },
      "execution_count": 374,
      "outputs": []
    },
    {
      "cell_type": "code",
      "source": [
        "NVG"
      ],
      "metadata": {
        "colab": {
          "base_uri": "https://localhost:8080/",
          "height": 655
        },
        "id": "ey66VCYDMkgJ",
        "outputId": "09df5bf4-0141-4add-a6b2-d3af320e1b32"
      },
      "execution_count": 375,
      "outputs": [
        {
          "output_type": "execute_result",
          "data": {
            "text/plain": [
              "    Method Subject Accelerometer_axis  Average_degree Network_diameter  \\\n",
              "0      NVG       1                  X       15.609375               16   \n",
              "1      NVG       1                  X       10.019531               13   \n",
              "2      NVG       1                  X       15.376953                7   \n",
              "3      NVG       1                  X       12.183594                9   \n",
              "4      NVG       1                  X        8.414062                9   \n",
              "..     ...     ...                ...             ...              ...   \n",
              "355    NVG      15                  Z       12.654297                9   \n",
              "356    NVG      15                  Z        8.017578                9   \n",
              "357    NVG      15                  Z        8.447266               11   \n",
              "358    NVG      15                  Z        9.318359               12   \n",
              "359    NVG      15                  Z       13.353516                9   \n",
              "\n",
              "     Average_path_length      Activity  \n",
              "0               6.598815  Climbingdown  \n",
              "1               5.308571  Climbingdown  \n",
              "2               3.882824    Climbingup  \n",
              "3               4.127892    Climbingup  \n",
              "4               4.307645       Running  \n",
              "..                   ...           ...  \n",
              "355             4.601635    Climbingup  \n",
              "356             4.651544       Running  \n",
              "357             4.786348       Running  \n",
              "358             4.945985       walking  \n",
              "359             4.674661       walking  \n",
              "\n",
              "[360 rows x 7 columns]"
            ],
            "text/html": [
              "\n",
              "  <div id=\"df-259eab5c-9a4b-4cc7-a2c2-e0842baf60a2\">\n",
              "    <div class=\"colab-df-container\">\n",
              "      <div>\n",
              "<style scoped>\n",
              "    .dataframe tbody tr th:only-of-type {\n",
              "        vertical-align: middle;\n",
              "    }\n",
              "\n",
              "    .dataframe tbody tr th {\n",
              "        vertical-align: top;\n",
              "    }\n",
              "\n",
              "    .dataframe thead th {\n",
              "        text-align: right;\n",
              "    }\n",
              "</style>\n",
              "<table border=\"1\" class=\"dataframe\">\n",
              "  <thead>\n",
              "    <tr style=\"text-align: right;\">\n",
              "      <th></th>\n",
              "      <th>Method</th>\n",
              "      <th>Subject</th>\n",
              "      <th>Accelerometer_axis</th>\n",
              "      <th>Average_degree</th>\n",
              "      <th>Network_diameter</th>\n",
              "      <th>Average_path_length</th>\n",
              "      <th>Activity</th>\n",
              "    </tr>\n",
              "  </thead>\n",
              "  <tbody>\n",
              "    <tr>\n",
              "      <th>0</th>\n",
              "      <td>NVG</td>\n",
              "      <td>1</td>\n",
              "      <td>X</td>\n",
              "      <td>15.609375</td>\n",
              "      <td>16</td>\n",
              "      <td>6.598815</td>\n",
              "      <td>Climbingdown</td>\n",
              "    </tr>\n",
              "    <tr>\n",
              "      <th>1</th>\n",
              "      <td>NVG</td>\n",
              "      <td>1</td>\n",
              "      <td>X</td>\n",
              "      <td>10.019531</td>\n",
              "      <td>13</td>\n",
              "      <td>5.308571</td>\n",
              "      <td>Climbingdown</td>\n",
              "    </tr>\n",
              "    <tr>\n",
              "      <th>2</th>\n",
              "      <td>NVG</td>\n",
              "      <td>1</td>\n",
              "      <td>X</td>\n",
              "      <td>15.376953</td>\n",
              "      <td>7</td>\n",
              "      <td>3.882824</td>\n",
              "      <td>Climbingup</td>\n",
              "    </tr>\n",
              "    <tr>\n",
              "      <th>3</th>\n",
              "      <td>NVG</td>\n",
              "      <td>1</td>\n",
              "      <td>X</td>\n",
              "      <td>12.183594</td>\n",
              "      <td>9</td>\n",
              "      <td>4.127892</td>\n",
              "      <td>Climbingup</td>\n",
              "    </tr>\n",
              "    <tr>\n",
              "      <th>4</th>\n",
              "      <td>NVG</td>\n",
              "      <td>1</td>\n",
              "      <td>X</td>\n",
              "      <td>8.414062</td>\n",
              "      <td>9</td>\n",
              "      <td>4.307645</td>\n",
              "      <td>Running</td>\n",
              "    </tr>\n",
              "    <tr>\n",
              "      <th>...</th>\n",
              "      <td>...</td>\n",
              "      <td>...</td>\n",
              "      <td>...</td>\n",
              "      <td>...</td>\n",
              "      <td>...</td>\n",
              "      <td>...</td>\n",
              "      <td>...</td>\n",
              "    </tr>\n",
              "    <tr>\n",
              "      <th>355</th>\n",
              "      <td>NVG</td>\n",
              "      <td>15</td>\n",
              "      <td>Z</td>\n",
              "      <td>12.654297</td>\n",
              "      <td>9</td>\n",
              "      <td>4.601635</td>\n",
              "      <td>Climbingup</td>\n",
              "    </tr>\n",
              "    <tr>\n",
              "      <th>356</th>\n",
              "      <td>NVG</td>\n",
              "      <td>15</td>\n",
              "      <td>Z</td>\n",
              "      <td>8.017578</td>\n",
              "      <td>9</td>\n",
              "      <td>4.651544</td>\n",
              "      <td>Running</td>\n",
              "    </tr>\n",
              "    <tr>\n",
              "      <th>357</th>\n",
              "      <td>NVG</td>\n",
              "      <td>15</td>\n",
              "      <td>Z</td>\n",
              "      <td>8.447266</td>\n",
              "      <td>11</td>\n",
              "      <td>4.786348</td>\n",
              "      <td>Running</td>\n",
              "    </tr>\n",
              "    <tr>\n",
              "      <th>358</th>\n",
              "      <td>NVG</td>\n",
              "      <td>15</td>\n",
              "      <td>Z</td>\n",
              "      <td>9.318359</td>\n",
              "      <td>12</td>\n",
              "      <td>4.945985</td>\n",
              "      <td>walking</td>\n",
              "    </tr>\n",
              "    <tr>\n",
              "      <th>359</th>\n",
              "      <td>NVG</td>\n",
              "      <td>15</td>\n",
              "      <td>Z</td>\n",
              "      <td>13.353516</td>\n",
              "      <td>9</td>\n",
              "      <td>4.674661</td>\n",
              "      <td>walking</td>\n",
              "    </tr>\n",
              "  </tbody>\n",
              "</table>\n",
              "<p>360 rows × 7 columns</p>\n",
              "</div>\n",
              "      <button class=\"colab-df-convert\" onclick=\"convertToInteractive('df-259eab5c-9a4b-4cc7-a2c2-e0842baf60a2')\"\n",
              "              title=\"Convert this dataframe to an interactive table.\"\n",
              "              style=\"display:none;\">\n",
              "        \n",
              "  <svg xmlns=\"http://www.w3.org/2000/svg\" height=\"24px\"viewBox=\"0 0 24 24\"\n",
              "       width=\"24px\">\n",
              "    <path d=\"M0 0h24v24H0V0z\" fill=\"none\"/>\n",
              "    <path d=\"M18.56 5.44l.94 2.06.94-2.06 2.06-.94-2.06-.94-.94-2.06-.94 2.06-2.06.94zm-11 1L8.5 8.5l.94-2.06 2.06-.94-2.06-.94L8.5 2.5l-.94 2.06-2.06.94zm10 10l.94 2.06.94-2.06 2.06-.94-2.06-.94-.94-2.06-.94 2.06-2.06.94z\"/><path d=\"M17.41 7.96l-1.37-1.37c-.4-.4-.92-.59-1.43-.59-.52 0-1.04.2-1.43.59L10.3 9.45l-7.72 7.72c-.78.78-.78 2.05 0 2.83L4 21.41c.39.39.9.59 1.41.59.51 0 1.02-.2 1.41-.59l7.78-7.78 2.81-2.81c.8-.78.8-2.07 0-2.86zM5.41 20L4 18.59l7.72-7.72 1.47 1.35L5.41 20z\"/>\n",
              "  </svg>\n",
              "      </button>\n",
              "      \n",
              "  <style>\n",
              "    .colab-df-container {\n",
              "      display:flex;\n",
              "      flex-wrap:wrap;\n",
              "      gap: 12px;\n",
              "    }\n",
              "\n",
              "    .colab-df-convert {\n",
              "      background-color: #E8F0FE;\n",
              "      border: none;\n",
              "      border-radius: 50%;\n",
              "      cursor: pointer;\n",
              "      display: none;\n",
              "      fill: #1967D2;\n",
              "      height: 32px;\n",
              "      padding: 0 0 0 0;\n",
              "      width: 32px;\n",
              "    }\n",
              "\n",
              "    .colab-df-convert:hover {\n",
              "      background-color: #E2EBFA;\n",
              "      box-shadow: 0px 1px 2px rgba(60, 64, 67, 0.3), 0px 1px 3px 1px rgba(60, 64, 67, 0.15);\n",
              "      fill: #174EA6;\n",
              "    }\n",
              "\n",
              "    [theme=dark] .colab-df-convert {\n",
              "      background-color: #3B4455;\n",
              "      fill: #D2E3FC;\n",
              "    }\n",
              "\n",
              "    [theme=dark] .colab-df-convert:hover {\n",
              "      background-color: #434B5C;\n",
              "      box-shadow: 0px 1px 3px 1px rgba(0, 0, 0, 0.15);\n",
              "      filter: drop-shadow(0px 1px 2px rgba(0, 0, 0, 0.3));\n",
              "      fill: #FFFFFF;\n",
              "    }\n",
              "  </style>\n",
              "\n",
              "      <script>\n",
              "        const buttonEl =\n",
              "          document.querySelector('#df-259eab5c-9a4b-4cc7-a2c2-e0842baf60a2 button.colab-df-convert');\n",
              "        buttonEl.style.display =\n",
              "          google.colab.kernel.accessAllowed ? 'block' : 'none';\n",
              "\n",
              "        async function convertToInteractive(key) {\n",
              "          const element = document.querySelector('#df-259eab5c-9a4b-4cc7-a2c2-e0842baf60a2');\n",
              "          const dataTable =\n",
              "            await google.colab.kernel.invokeFunction('convertToInteractive',\n",
              "                                                     [key], {});\n",
              "          if (!dataTable) return;\n",
              "\n",
              "          const docLinkHtml = 'Like what you see? Visit the ' +\n",
              "            '<a target=\"_blank\" href=https://colab.research.google.com/notebooks/data_table.ipynb>data table notebook</a>'\n",
              "            + ' to learn more about interactive tables.';\n",
              "          element.innerHTML = '';\n",
              "          dataTable['output_type'] = 'display_data';\n",
              "          await google.colab.output.renderOutput(dataTable, element);\n",
              "          const docLink = document.createElement('div');\n",
              "          docLink.innerHTML = docLinkHtml;\n",
              "          element.appendChild(docLink);\n",
              "        }\n",
              "      </script>\n",
              "    </div>\n",
              "  </div>\n",
              "  "
            ]
          },
          "metadata": {},
          "execution_count": 375
        }
      ]
    },
    {
      "cell_type": "markdown",
      "source": [
        "**HVG**"
      ],
      "metadata": {
        "id": "lYPtJDVsORke"
      }
    },
    {
      "cell_type": "code",
      "source": [
        "HVG_Table = [\"Method\", \"Subject\", \"Accelerometer_axis\", \"Average_degree\", \"Network_diameter\",\n",
        "                \"Average_path_length\", \"Activity\"]\n",
        "HVG = pd.DataFrame(columns = HVG_Table)"
      ],
      "metadata": {
        "id": "C-IIqEqoPcyd"
      },
      "execution_count": 318,
      "outputs": []
    },
    {
      "cell_type": "code",
      "source": [
        "HVG"
      ],
      "metadata": {
        "colab": {
          "base_uri": "https://localhost:8080/",
          "height": 113
        },
        "id": "SRcZVRI7QyyP",
        "outputId": "1df77e7c-b53e-4685-f56f-11c2c5ec5374"
      },
      "execution_count": 319,
      "outputs": [
        {
          "output_type": "execute_result",
          "data": {
            "text/plain": [
              "Empty DataFrame\n",
              "Columns: [Method, Subject, Accelerometer_axis, Average_degree, Network_diameter, Average_path_length, Activity]\n",
              "Index: []"
            ],
            "text/html": [
              "\n",
              "  <div id=\"df-11ba5a0d-e784-4868-bbab-589ada0583d3\">\n",
              "    <div class=\"colab-df-container\">\n",
              "      <div>\n",
              "<style scoped>\n",
              "    .dataframe tbody tr th:only-of-type {\n",
              "        vertical-align: middle;\n",
              "    }\n",
              "\n",
              "    .dataframe tbody tr th {\n",
              "        vertical-align: top;\n",
              "    }\n",
              "\n",
              "    .dataframe thead th {\n",
              "        text-align: right;\n",
              "    }\n",
              "</style>\n",
              "<table border=\"1\" class=\"dataframe\">\n",
              "  <thead>\n",
              "    <tr style=\"text-align: right;\">\n",
              "      <th></th>\n",
              "      <th>Method</th>\n",
              "      <th>Subject</th>\n",
              "      <th>Accelerometer_axis</th>\n",
              "      <th>Average_degree</th>\n",
              "      <th>Network_diameter</th>\n",
              "      <th>Average_path_length</th>\n",
              "      <th>Activity</th>\n",
              "    </tr>\n",
              "  </thead>\n",
              "  <tbody>\n",
              "  </tbody>\n",
              "</table>\n",
              "</div>\n",
              "      <button class=\"colab-df-convert\" onclick=\"convertToInteractive('df-11ba5a0d-e784-4868-bbab-589ada0583d3')\"\n",
              "              title=\"Convert this dataframe to an interactive table.\"\n",
              "              style=\"display:none;\">\n",
              "        \n",
              "  <svg xmlns=\"http://www.w3.org/2000/svg\" height=\"24px\"viewBox=\"0 0 24 24\"\n",
              "       width=\"24px\">\n",
              "    <path d=\"M0 0h24v24H0V0z\" fill=\"none\"/>\n",
              "    <path d=\"M18.56 5.44l.94 2.06.94-2.06 2.06-.94-2.06-.94-.94-2.06-.94 2.06-2.06.94zm-11 1L8.5 8.5l.94-2.06 2.06-.94-2.06-.94L8.5 2.5l-.94 2.06-2.06.94zm10 10l.94 2.06.94-2.06 2.06-.94-2.06-.94-.94-2.06-.94 2.06-2.06.94z\"/><path d=\"M17.41 7.96l-1.37-1.37c-.4-.4-.92-.59-1.43-.59-.52 0-1.04.2-1.43.59L10.3 9.45l-7.72 7.72c-.78.78-.78 2.05 0 2.83L4 21.41c.39.39.9.59 1.41.59.51 0 1.02-.2 1.41-.59l7.78-7.78 2.81-2.81c.8-.78.8-2.07 0-2.86zM5.41 20L4 18.59l7.72-7.72 1.47 1.35L5.41 20z\"/>\n",
              "  </svg>\n",
              "      </button>\n",
              "      \n",
              "  <style>\n",
              "    .colab-df-container {\n",
              "      display:flex;\n",
              "      flex-wrap:wrap;\n",
              "      gap: 12px;\n",
              "    }\n",
              "\n",
              "    .colab-df-convert {\n",
              "      background-color: #E8F0FE;\n",
              "      border: none;\n",
              "      border-radius: 50%;\n",
              "      cursor: pointer;\n",
              "      display: none;\n",
              "      fill: #1967D2;\n",
              "      height: 32px;\n",
              "      padding: 0 0 0 0;\n",
              "      width: 32px;\n",
              "    }\n",
              "\n",
              "    .colab-df-convert:hover {\n",
              "      background-color: #E2EBFA;\n",
              "      box-shadow: 0px 1px 2px rgba(60, 64, 67, 0.3), 0px 1px 3px 1px rgba(60, 64, 67, 0.15);\n",
              "      fill: #174EA6;\n",
              "    }\n",
              "\n",
              "    [theme=dark] .colab-df-convert {\n",
              "      background-color: #3B4455;\n",
              "      fill: #D2E3FC;\n",
              "    }\n",
              "\n",
              "    [theme=dark] .colab-df-convert:hover {\n",
              "      background-color: #434B5C;\n",
              "      box-shadow: 0px 1px 3px 1px rgba(0, 0, 0, 0.15);\n",
              "      filter: drop-shadow(0px 1px 2px rgba(0, 0, 0, 0.3));\n",
              "      fill: #FFFFFF;\n",
              "    }\n",
              "  </style>\n",
              "\n",
              "      <script>\n",
              "        const buttonEl =\n",
              "          document.querySelector('#df-11ba5a0d-e784-4868-bbab-589ada0583d3 button.colab-df-convert');\n",
              "        buttonEl.style.display =\n",
              "          google.colab.kernel.accessAllowed ? 'block' : 'none';\n",
              "\n",
              "        async function convertToInteractive(key) {\n",
              "          const element = document.querySelector('#df-11ba5a0d-e784-4868-bbab-589ada0583d3');\n",
              "          const dataTable =\n",
              "            await google.colab.kernel.invokeFunction('convertToInteractive',\n",
              "                                                     [key], {});\n",
              "          if (!dataTable) return;\n",
              "\n",
              "          const docLinkHtml = 'Like what you see? Visit the ' +\n",
              "            '<a target=\"_blank\" href=https://colab.research.google.com/notebooks/data_table.ipynb>data table notebook</a>'\n",
              "            + ' to learn more about interactive tables.';\n",
              "          element.innerHTML = '';\n",
              "          dataTable['output_type'] = 'display_data';\n",
              "          await google.colab.output.renderOutput(dataTable, element);\n",
              "          const docLink = document.createElement('div');\n",
              "          docLink.innerHTML = docLinkHtml;\n",
              "          element.appendChild(docLink);\n",
              "        }\n",
              "      </script>\n",
              "    </div>\n",
              "  </div>\n",
              "  "
            ]
          },
          "metadata": {},
          "execution_count": 319
        }
      ]
    },
    {
      "cell_type": "code",
      "source": [
        "def HVGClimbingdownchest():    \n",
        "  gClimbingdownchest = HorizontalVG()\n",
        "  gClimbingdownchest.build(climbingdown_chest[k-1][g][1000:2024])\n",
        "  ig_gClimbingdownchest = gClimbingdownchest.as_igraph()\n",
        "  degree_climbingdownchest = np.mean(ig_gClimbingdownchest.degree())\n",
        "  diameter_climbingdownchest = ig_gClimbingdownchest.diameter() \n",
        "  path_climbingdownchest = ig_gClimbingdownchest.average_path_length()"
      ],
      "metadata": {
        "id": "FppDTAQQRF0G"
      },
      "execution_count": 297,
      "outputs": []
    },
    {
      "cell_type": "code",
      "source": [
        "def HVGClimbingdownhead():\n",
        "  gClimbingdownhead = HorizontalVG()\n",
        "  gClimbingdownhead.build(climbingdown_head[k-1][g][1000:2024])\n",
        "  ig_gClimbingdownhead = gClimbingdownhead.as_igraph()\n",
        "  degree_climbingdownhead = np.mean(ig_gClimbingdownhead.degree())\n",
        "  diameter_climbingdownhead = ig_gClimbingdownhead.diameter()\n",
        "  path_climbingdownhead = ig_gClimbingdownhead.average_path_length()"
      ],
      "metadata": {
        "id": "bQji9XERP1vq"
      },
      "execution_count": 298,
      "outputs": []
    },
    {
      "cell_type": "code",
      "source": [
        "def HVGClimbingupchest():\n",
        "  gClimbingupchest = HorizontalVG()\n",
        "  gClimbingupchest.build(climbingup_chest[k-1][g][1000:2024])\n",
        "  ig_gClimbingupchest = gClimbingupchest.as_igraph()\n",
        "  degree_climbingupchest = np.mean(ig_gClimbingupchest.degree())\n",
        "  diameter_climbingupchest = ig_gClimbingupchest.diameter()\n",
        "  path_climbingupchest = ig_gClimbingupchest.average_path_length()"
      ],
      "metadata": {
        "id": "E6oDKIyjP1vr"
      },
      "execution_count": 299,
      "outputs": []
    },
    {
      "cell_type": "code",
      "source": [
        "def HVGClimbinguphead():\n",
        "  gClimbinguphead = HorizontalVG()\n",
        "  gClimbinguphead.build(climbingup_head[k-1][g][1000:2024])\n",
        "  ig_gClimbinguphead = gClimbinguphead.as_igraph()\n",
        "  degree_climbinguphead = np.mean(ig_gClimbinguphead.degree())\n",
        "  diameter_climbinguphead = ig_gClimbinguphead.diameter()\n",
        "  path_climbinguphead = ig_gClimbinguphead.average_path_length()"
      ],
      "metadata": {
        "id": "hNvxzZfVP1vr"
      },
      "execution_count": 300,
      "outputs": []
    },
    {
      "cell_type": "code",
      "source": [
        "def HVGRunningchest():\n",
        "  gRunningchest = HorizontalVG()\n",
        "  gRunningchest.build(running_chest[k-1][g][1000:2024])\n",
        "  ig_gRunningchest = gRunningchest.as_igraph()\n",
        "  degree_runningchest = np.mean(ig_gRunningchest.degree())\n",
        "  diameter_runningchest = ig_gRunningchest.diameter()\n",
        "  path_runningchest = ig_gRunningchest.average_path_length()"
      ],
      "metadata": {
        "id": "PDQZK2NlP1vr"
      },
      "execution_count": 301,
      "outputs": []
    },
    {
      "cell_type": "code",
      "source": [
        "def HVGRunninghead():\n",
        "  gRunninghead = HorizontalVG()\n",
        "  gRunninghead.build(running_head[k-1][g][1000:2024])\n",
        "  ig_gRunninghead = gRunninghead.as_igraph()\n",
        "  degree_runninghead = np.mean(ig_gRunninghead.degree())\n",
        "  diameter_runninghead = ig_gRunninghead.diameter()\n",
        "  path_runninghead = ig_gRunninghead.average_path_length()"
      ],
      "metadata": {
        "id": "p_5YGIhTP1vs"
      },
      "execution_count": 302,
      "outputs": []
    },
    {
      "cell_type": "code",
      "source": [
        "def HVGWalkingchest():\n",
        "  gWalkingchest = HorizontalVG()\n",
        "  gWalkingchest.build(walking_chest[k-1][g][1000:2024])\n",
        "  ig_gWalkingchest = gWalkingchest.as_igraph()\n",
        "  degree_walkingchest = np.mean(ig_gWalkingchest.degree())\n",
        "  diameter_walkingchest = ig_gWalkingchest.diameter()\n",
        "  path_walkingchest = ig_gWalkingchest.average_path_length()"
      ],
      "metadata": {
        "id": "-_F9CzM3P1vs"
      },
      "execution_count": 303,
      "outputs": []
    },
    {
      "cell_type": "code",
      "source": [
        "def HVGWalkinghead():\n",
        "  gWalkinghead = HorizontalVG()\n",
        "  gWalkinghead.build(walking_head[k-1][g][1000:2024])\n",
        "  ig_gWalkinghead = gWalkinghead.as_igraph()\n",
        "  degree_walkinghead = np.mean(ig_gWalkinghead.degree())\n",
        "  diameter_walkinghead = ig_gWalkinghead.diameter()\n",
        "  path_walkinghead = ig_gWalkinghead.average_path_length()"
      ],
      "metadata": {
        "id": "d9xKrSkaP1vs"
      },
      "execution_count": 304,
      "outputs": []
    },
    {
      "cell_type": "code",
      "source": [
        "def HVGattr_function():\n",
        "  if g == 'attr_x':\n",
        "      return 'X'\n",
        "  elif g == 'attr_y':\n",
        "      return 'Y'\n",
        "  elif g == 'attr_z':\n",
        "      return 'Z'"
      ],
      "metadata": {
        "id": "0FRS0D8XY_Op"
      },
      "execution_count": 305,
      "outputs": []
    },
    {
      "cell_type": "code",
      "source": [
        "i = 1\n",
        "for k in range (1,16):\n",
        "   for g in attr: \n",
        "    HVGattr_function()\n",
        "    HVGClimbingdownchest()\n",
        "    HVG = HVG.append({\"Method\" : \"HVG\", \"Subject\" : k, \"Accelerometer_axis\" : HVGattr_function(), \"Average_degree\" : degree_climbingdownchest, \"Network_diameter\" : diameter_climbingdownchest, \"Average_path_length\" : path_climbingdownchest, \"Activity\" : \"Climbingdown\"}, ignore_index=True)\n",
        "\n",
        "    HVGClimbingdownhead()\n",
        "    HVG = HVG.append({\"Method\" : \"HVG\", \"Subject\" : k, \"Accelerometer_axis\" : HVGattr_function(), \"Average_degree\" : degree_climbingdownhead, \"Network_diameter\" : diameter_climbingdownhead, \"Average_path_length\" : path_climbingdownhead, \"Activity\" : \"Climbingdown\"}, ignore_index=True) \n",
        "\n",
        "    HVGClimbingupchest()\n",
        "    HVG = HVG.append({\"Method\" : \"HVG\", \"Subject\" : k, \"Accelerometer_axis\" : HVGattr_function(), \"Average_degree\" : degree_climbingupchest, \"Network_diameter\" : diameter_climbingupchest, \"Average_path_length\" : path_climbingupchest, \"Activity\" : \"Climbingup\"}, ignore_index=True) \n",
        "\n",
        "    HVGClimbinguphead()\n",
        "    HVG = HVG.append({\"Method\" : \"HVG\", \"Subject\" : k, \"Accelerometer_axis\" : HVGattr_function(), \"Average_degree\" : degree_climbinguphead, \"Network_diameter\" : diameter_climbinguphead, \"Average_path_length\" : path_climbinguphead, \"Activity\" : \"Climbingup\"}, ignore_index=True)\n",
        "\n",
        "    HVGRunningchest()\n",
        "    HVG = HVG.append({\"Method\" : \"HVG\", \"Subject\" : k, \"Accelerometer_axis\" : HVGattr_function(), \"Average_degree\" : degree_runningchest, \"Network_diameter\" : diameter_runningchest, \"Average_path_length\" : path_runningchest, \"Activity\" : \"Running\"}, ignore_index=True)\n",
        "    \n",
        "    HVGRunninghead()\n",
        "    HVG = HVG.append({\"Method\" : \"HVG\", \"Subject\" : k, \"Accelerometer_axis\" : HVGattr_function(), \"Average_degree\" : degree_runninghead, \"Network_diameter\" : diameter_runninghead, \"Average_path_length\" : path_runninghead, \"Activity\" : \"Running\"}, ignore_index=True)\n",
        "    \n",
        "    HVGWalkingchest()\n",
        "    HVG = HVG.append({\"Method\" : \"HVG\", \"Subject\" : k, \"Accelerometer_axis\" : HVGattr_function(), \"Average_degree\" : degree_walkingchest, \"Network_diameter\" : diameter_walkingchest, \"Average_path_length\" : path_walkingchest, \"Activity\" : \"walking\"}, ignore_index=True)\n",
        "\n",
        "    HVGWalkinghead()\n",
        "    HVG = HVG.append({\"Method\" : \"HVG\", \"Subject\" : k, \"Accelerometer_axis\" : HVGattr_function(), \"Average_degree\" : degree_walkinghead, \"Network_diameter\" : diameter_walkinghead, \"Average_path_length\" : path_walkinghead, \"Activity\" : \"walking\"}, ignore_index=True)"
      ],
      "metadata": {
        "id": "sbs-2yZ1SPQS"
      },
      "execution_count": 320,
      "outputs": []
    },
    {
      "cell_type": "code",
      "source": [
        "HVG"
      ],
      "metadata": {
        "colab": {
          "base_uri": "https://localhost:8080/",
          "height": 655
        },
        "id": "nPrbIk4rS5xo",
        "outputId": "5f49bf3d-2594-4a44-ea10-3a8ee091174c"
      },
      "execution_count": 344,
      "outputs": [
        {
          "output_type": "execute_result",
          "data": {
            "text/plain": [
              "    Method Subject Accelerometer_axis  Average_degree Network_diameter  \\\n",
              "0      HVG       1                  X        3.941406               32   \n",
              "1      HVG       1                  X        3.939453               39   \n",
              "2      HVG       1                  X        3.968750               26   \n",
              "3      HVG       1                  X        3.921875               39   \n",
              "4      HVG       1                  X        3.974609               20   \n",
              "..     ...     ...                ...             ...              ...   \n",
              "355    HVG      15                  Z        3.921875               39   \n",
              "356    HVG      15                  Z        3.974609               20   \n",
              "357    HVG      15                  Z        3.964844               21   \n",
              "358    HVG      15                  Z        3.931641               30   \n",
              "359    HVG      15                  Z        3.927734               46   \n",
              "\n",
              "     Average_path_length      Activity  \n",
              "0              11.783465  Climbingdown  \n",
              "1              16.957489  Climbingdown  \n",
              "2              11.595193    Climbingup  \n",
              "3              16.455628    Climbingup  \n",
              "4               9.290619       Running  \n",
              "..                   ...           ...  \n",
              "355            16.455628    Climbingup  \n",
              "356             9.290619       Running  \n",
              "357            10.148143       Running  \n",
              "358            10.897949       walking  \n",
              "359            19.575303       walking  \n",
              "\n",
              "[360 rows x 7 columns]"
            ],
            "text/html": [
              "\n",
              "  <div id=\"df-9ec716f9-f573-4af8-8fe8-abba4501ac8b\">\n",
              "    <div class=\"colab-df-container\">\n",
              "      <div>\n",
              "<style scoped>\n",
              "    .dataframe tbody tr th:only-of-type {\n",
              "        vertical-align: middle;\n",
              "    }\n",
              "\n",
              "    .dataframe tbody tr th {\n",
              "        vertical-align: top;\n",
              "    }\n",
              "\n",
              "    .dataframe thead th {\n",
              "        text-align: right;\n",
              "    }\n",
              "</style>\n",
              "<table border=\"1\" class=\"dataframe\">\n",
              "  <thead>\n",
              "    <tr style=\"text-align: right;\">\n",
              "      <th></th>\n",
              "      <th>Method</th>\n",
              "      <th>Subject</th>\n",
              "      <th>Accelerometer_axis</th>\n",
              "      <th>Average_degree</th>\n",
              "      <th>Network_diameter</th>\n",
              "      <th>Average_path_length</th>\n",
              "      <th>Activity</th>\n",
              "    </tr>\n",
              "  </thead>\n",
              "  <tbody>\n",
              "    <tr>\n",
              "      <th>0</th>\n",
              "      <td>HVG</td>\n",
              "      <td>1</td>\n",
              "      <td>X</td>\n",
              "      <td>3.941406</td>\n",
              "      <td>32</td>\n",
              "      <td>11.783465</td>\n",
              "      <td>Climbingdown</td>\n",
              "    </tr>\n",
              "    <tr>\n",
              "      <th>1</th>\n",
              "      <td>HVG</td>\n",
              "      <td>1</td>\n",
              "      <td>X</td>\n",
              "      <td>3.939453</td>\n",
              "      <td>39</td>\n",
              "      <td>16.957489</td>\n",
              "      <td>Climbingdown</td>\n",
              "    </tr>\n",
              "    <tr>\n",
              "      <th>2</th>\n",
              "      <td>HVG</td>\n",
              "      <td>1</td>\n",
              "      <td>X</td>\n",
              "      <td>3.968750</td>\n",
              "      <td>26</td>\n",
              "      <td>11.595193</td>\n",
              "      <td>Climbingup</td>\n",
              "    </tr>\n",
              "    <tr>\n",
              "      <th>3</th>\n",
              "      <td>HVG</td>\n",
              "      <td>1</td>\n",
              "      <td>X</td>\n",
              "      <td>3.921875</td>\n",
              "      <td>39</td>\n",
              "      <td>16.455628</td>\n",
              "      <td>Climbingup</td>\n",
              "    </tr>\n",
              "    <tr>\n",
              "      <th>4</th>\n",
              "      <td>HVG</td>\n",
              "      <td>1</td>\n",
              "      <td>X</td>\n",
              "      <td>3.974609</td>\n",
              "      <td>20</td>\n",
              "      <td>9.290619</td>\n",
              "      <td>Running</td>\n",
              "    </tr>\n",
              "    <tr>\n",
              "      <th>...</th>\n",
              "      <td>...</td>\n",
              "      <td>...</td>\n",
              "      <td>...</td>\n",
              "      <td>...</td>\n",
              "      <td>...</td>\n",
              "      <td>...</td>\n",
              "      <td>...</td>\n",
              "    </tr>\n",
              "    <tr>\n",
              "      <th>355</th>\n",
              "      <td>HVG</td>\n",
              "      <td>15</td>\n",
              "      <td>Z</td>\n",
              "      <td>3.921875</td>\n",
              "      <td>39</td>\n",
              "      <td>16.455628</td>\n",
              "      <td>Climbingup</td>\n",
              "    </tr>\n",
              "    <tr>\n",
              "      <th>356</th>\n",
              "      <td>HVG</td>\n",
              "      <td>15</td>\n",
              "      <td>Z</td>\n",
              "      <td>3.974609</td>\n",
              "      <td>20</td>\n",
              "      <td>9.290619</td>\n",
              "      <td>Running</td>\n",
              "    </tr>\n",
              "    <tr>\n",
              "      <th>357</th>\n",
              "      <td>HVG</td>\n",
              "      <td>15</td>\n",
              "      <td>Z</td>\n",
              "      <td>3.964844</td>\n",
              "      <td>21</td>\n",
              "      <td>10.148143</td>\n",
              "      <td>Running</td>\n",
              "    </tr>\n",
              "    <tr>\n",
              "      <th>358</th>\n",
              "      <td>HVG</td>\n",
              "      <td>15</td>\n",
              "      <td>Z</td>\n",
              "      <td>3.931641</td>\n",
              "      <td>30</td>\n",
              "      <td>10.897949</td>\n",
              "      <td>walking</td>\n",
              "    </tr>\n",
              "    <tr>\n",
              "      <th>359</th>\n",
              "      <td>HVG</td>\n",
              "      <td>15</td>\n",
              "      <td>Z</td>\n",
              "      <td>3.927734</td>\n",
              "      <td>46</td>\n",
              "      <td>19.575303</td>\n",
              "      <td>walking</td>\n",
              "    </tr>\n",
              "  </tbody>\n",
              "</table>\n",
              "<p>360 rows × 7 columns</p>\n",
              "</div>\n",
              "      <button class=\"colab-df-convert\" onclick=\"convertToInteractive('df-9ec716f9-f573-4af8-8fe8-abba4501ac8b')\"\n",
              "              title=\"Convert this dataframe to an interactive table.\"\n",
              "              style=\"display:none;\">\n",
              "        \n",
              "  <svg xmlns=\"http://www.w3.org/2000/svg\" height=\"24px\"viewBox=\"0 0 24 24\"\n",
              "       width=\"24px\">\n",
              "    <path d=\"M0 0h24v24H0V0z\" fill=\"none\"/>\n",
              "    <path d=\"M18.56 5.44l.94 2.06.94-2.06 2.06-.94-2.06-.94-.94-2.06-.94 2.06-2.06.94zm-11 1L8.5 8.5l.94-2.06 2.06-.94-2.06-.94L8.5 2.5l-.94 2.06-2.06.94zm10 10l.94 2.06.94-2.06 2.06-.94-2.06-.94-.94-2.06-.94 2.06-2.06.94z\"/><path d=\"M17.41 7.96l-1.37-1.37c-.4-.4-.92-.59-1.43-.59-.52 0-1.04.2-1.43.59L10.3 9.45l-7.72 7.72c-.78.78-.78 2.05 0 2.83L4 21.41c.39.39.9.59 1.41.59.51 0 1.02-.2 1.41-.59l7.78-7.78 2.81-2.81c.8-.78.8-2.07 0-2.86zM5.41 20L4 18.59l7.72-7.72 1.47 1.35L5.41 20z\"/>\n",
              "  </svg>\n",
              "      </button>\n",
              "      \n",
              "  <style>\n",
              "    .colab-df-container {\n",
              "      display:flex;\n",
              "      flex-wrap:wrap;\n",
              "      gap: 12px;\n",
              "    }\n",
              "\n",
              "    .colab-df-convert {\n",
              "      background-color: #E8F0FE;\n",
              "      border: none;\n",
              "      border-radius: 50%;\n",
              "      cursor: pointer;\n",
              "      display: none;\n",
              "      fill: #1967D2;\n",
              "      height: 32px;\n",
              "      padding: 0 0 0 0;\n",
              "      width: 32px;\n",
              "    }\n",
              "\n",
              "    .colab-df-convert:hover {\n",
              "      background-color: #E2EBFA;\n",
              "      box-shadow: 0px 1px 2px rgba(60, 64, 67, 0.3), 0px 1px 3px 1px rgba(60, 64, 67, 0.15);\n",
              "      fill: #174EA6;\n",
              "    }\n",
              "\n",
              "    [theme=dark] .colab-df-convert {\n",
              "      background-color: #3B4455;\n",
              "      fill: #D2E3FC;\n",
              "    }\n",
              "\n",
              "    [theme=dark] .colab-df-convert:hover {\n",
              "      background-color: #434B5C;\n",
              "      box-shadow: 0px 1px 3px 1px rgba(0, 0, 0, 0.15);\n",
              "      filter: drop-shadow(0px 1px 2px rgba(0, 0, 0, 0.3));\n",
              "      fill: #FFFFFF;\n",
              "    }\n",
              "  </style>\n",
              "\n",
              "      <script>\n",
              "        const buttonEl =\n",
              "          document.querySelector('#df-9ec716f9-f573-4af8-8fe8-abba4501ac8b button.colab-df-convert');\n",
              "        buttonEl.style.display =\n",
              "          google.colab.kernel.accessAllowed ? 'block' : 'none';\n",
              "\n",
              "        async function convertToInteractive(key) {\n",
              "          const element = document.querySelector('#df-9ec716f9-f573-4af8-8fe8-abba4501ac8b');\n",
              "          const dataTable =\n",
              "            await google.colab.kernel.invokeFunction('convertToInteractive',\n",
              "                                                     [key], {});\n",
              "          if (!dataTable) return;\n",
              "\n",
              "          const docLinkHtml = 'Like what you see? Visit the ' +\n",
              "            '<a target=\"_blank\" href=https://colab.research.google.com/notebooks/data_table.ipynb>data table notebook</a>'\n",
              "            + ' to learn more about interactive tables.';\n",
              "          element.innerHTML = '';\n",
              "          dataTable['output_type'] = 'display_data';\n",
              "          await google.colab.output.renderOutput(dataTable, element);\n",
              "          const docLink = document.createElement('div');\n",
              "          docLink.innerHTML = docLinkHtml;\n",
              "          element.appendChild(docLink);\n",
              "        }\n",
              "      </script>\n",
              "    </div>\n",
              "  </div>\n",
              "  "
            ]
          },
          "metadata": {},
          "execution_count": 344
        }
      ]
    },
    {
      "cell_type": "markdown",
      "source": [
        "**Scatter Plots average degree vs network diameter**\n",
        "Running&Walking"
      ],
      "metadata": {
        "id": "cLuRajMRlTxn"
      }
    },
    {
      "cell_type": "code",
      "source": [
        "drawRW = ['Running','walking']\n",
        "sns.relplot(data = NVG[NVG.Activity.isin(drawRW)], x = \"Average_degree\", y = \"Network_diameter\",hue = \"Activity\", col = \"Accelerometer_axis\", style = \"Method\")"
      ],
      "metadata": {
        "colab": {
          "base_uri": "https://localhost:8080/",
          "height": 282
        },
        "id": "lnQcNLimlSB4",
        "outputId": "e32ed5f8-756c-44ab-fd0f-c9f2feb57973"
      },
      "execution_count": 391,
      "outputs": [
        {
          "output_type": "execute_result",
          "data": {
            "text/plain": [
              "<seaborn.axisgrid.FacetGrid at 0x7f2c6957ef70>"
            ]
          },
          "metadata": {},
          "execution_count": 391
        },
        {
          "output_type": "display_data",
          "data": {
            "text/plain": [
              "<Figure size 1157.12x360 with 3 Axes>"
            ],
            "image/png": "[encoded data removed]"
          },
          "metadata": {
            "needs_background": "light"
          }
        }
      ]
    },
    {
      "cell_type": "code",
      "source": [
        "sns.relplot(data = HVG[HVG.Activity.isin(drawRW)], x = \"Average_degree\", y = \"Network_diameter\",hue = \"Activity\", col = \"Accelerometer_axis\", style = \"Method\")"
      ],
      "metadata": {
        "colab": {
          "base_uri": "https://localhost:8080/",
          "height": 282
        },
        "id": "SCciFCPsm3DW",
        "outputId": "aed29be1-cb64-4c2b-dcda-6d3e8779fb4b"
      },
      "execution_count": 392,
      "outputs": [
        {
          "output_type": "execute_result",
          "data": {
            "text/plain": [
              "<seaborn.axisgrid.FacetGrid at 0x7f2c695bb5e0>"
            ]
          },
          "metadata": {},
          "execution_count": 392
        },
        {
          "output_type": "display_data",
          "data": {
            "text/plain": [
              "<Figure size 1157.12x360 with 3 Axes>"
            ],
            "image/png": "[encoded data removed]"
          },
          "metadata": {
            "needs_background": "light"
          }
        }
      ]
    },
    {
      "cell_type": "markdown",
      "source": [
        "Scatter Plots average degree vs network diameter\n",
        "Climbingdown & up"
      ],
      "metadata": {
        "id": "CjzyHAe2rIG2"
      }
    },
    {
      "cell_type": "code",
      "source": [
        "drawAN = [\"Climbingdown\", \"Climbingup\"]\n",
        "sns.relplot(data = NVG[NVG.Activity.isin(drawAN)], x = \"Average_degree\", y = \"Network_diameter\",hue = \"Activity\", col = \"Accelerometer_axis\", style = \"Method\")"
      ],
      "metadata": {
        "colab": {
          "base_uri": "https://localhost:8080/",
          "height": 276
        },
        "id": "rVXZM1fjqqUB",
        "outputId": "e0fab964-ed9e-4366-8d91-7cecaac09c87"
      },
      "execution_count": 395,
      "outputs": [
        {
          "output_type": "execute_result",
          "data": {
            "text/plain": [
              "<seaborn.axisgrid.FacetGrid at 0x7f2c6c721340>"
            ]
          },
          "metadata": {},
          "execution_count": 395
        },
        {
          "output_type": "display_data",
          "data": {
            "text/plain": [
              "<Figure size 1187x360 with 3 Axes>"
            ],
            "image/png": "[encoded data removed]"
          },
          "metadata": {
            "needs_background": "light"
          }
        }
      ]
    },
    {
      "cell_type": "code",
      "source": [
        "sns.relplot(data = HVG[HVG.Activity.isin(drawAN)], x = \"Average_degree\", y = \"Network_diameter\",hue = \"Activity\", col = \"Accelerometer_axis\", style = \"Method\")"
      ],
      "metadata": {
        "colab": {
          "base_uri": "https://localhost:8080/",
          "height": 276
        },
        "id": "q5i9iBoRrbYm",
        "outputId": "3b8d7d62-2104-4ff1-d461-71800c5faed8"
      },
      "execution_count": 396,
      "outputs": [
        {
          "output_type": "execute_result",
          "data": {
            "text/plain": [
              "<seaborn.axisgrid.FacetGrid at 0x7f2c690ed5e0>"
            ]
          },
          "metadata": {},
          "execution_count": 396
        },
        {
          "output_type": "display_data",
          "data": {
            "text/plain": [
              "<Figure size 1187x360 with 3 Axes>"
            ],
            "image/png": "[encoded data removed]"
          },
          "metadata": {
            "needs_background": "light"
          }
        }
      ]
    },
    {
      "cell_type": "code",
      "source": [],
      "metadata": {
        "id": "jUNsdPmCrwpz"
      },
      "execution_count": null,
      "outputs": []
    }
  ]
}